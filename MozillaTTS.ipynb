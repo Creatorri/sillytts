{
 "cells": [
  {
   "cell_type": "markdown",
   "metadata": {
    "colab_type": "text",
    "id": "6LWsNd3_M3MP"
   },
   "source": [
    "# Mozilla TTS on CPU Real-Time Speech Synthesis "
   ]
  },
  {
   "cell_type": "markdown",
   "metadata": {
    "colab_type": "text",
    "id": "FAqrSIWgLyP0"
   },
   "source": [
    "We use Tacotron2 and MultiBand-Melgan models and LJSpeech dataset.\n",
    "\n",
    "Tacotron2 is trained using [Double Decoder Consistency](https://erogol.com/solving-attention-problems-of-tts-models-with-double-decoder-consistency/) (DDC) only for 130K steps (3 days) with a single GPU.\n",
    "\n",
    "MultiBand-Melgan is trained  1.45M steps with real spectrograms.\n",
    "\n",
    "Note that both model performances can be improved with more training."
   ]
  },
  {
   "cell_type": "markdown",
   "metadata": {
    "colab_type": "text",
    "id": "Ku-dA4DKoeXk"
   },
   "source": [
    "### Download Models"
   ]
  },
  {
   "cell_type": "code",
   "execution_count": 1,
   "metadata": {
    "colab": {
     "base_uri": "https://localhost:8080/",
     "height": 156
    },
    "colab_type": "code",
    "id": "jGIgnWhGsxU1",
    "outputId": "479415d4-d51f-479a-9d7a-942f86827844"
   },
   "outputs": [],
   "source": [
    "#!gdown --id 1dntzjWFg7ufWaTaFy80nRz-Tu02xWZos -O tts_model.pth.tar\n",
    "#!gdown --id 18CQ6G6tBEOfvCHlPqP8EBI4xWbrr9dBc -O config.json"
   ]
  },
  {
   "cell_type": "code",
   "execution_count": 2,
   "metadata": {
    "colab": {
     "base_uri": "https://localhost:8080/",
     "height": 225
    },
    "colab_type": "code",
    "id": "4dnpE0-kvTsu",
    "outputId": "6c63ba9e-4c76-441b-b09a-c5bb739da5a6"
   },
   "outputs": [],
   "source": [
    "#!gdown --id 1Ty5DZdOc0F7OTGj9oJThYbL5iVu_2G0K -O vocoder_model.pth.tar\n",
    "#!gdown --id 1Rd0R_nRCrbjEdpOwq6XwZAktvugiBvmu -O config_vocoder.json\n",
    "#!gdown --id 11oY3Tv0kQtxK_JPgxrfesa99maVXHNxU -O scale_stats.npy"
   ]
  },
  {
   "cell_type": "markdown",
   "metadata": {
    "colab_type": "text",
    "id": "_ZuDrj_ioqHE"
   },
   "source": [
    "### Setup Libraries"
   ]
  },
  {
   "cell_type": "code",
   "execution_count": 3,
   "metadata": {
    "colab": {
     "base_uri": "https://localhost:8080/",
     "height": 920
    },
    "colab_type": "code",
    "id": "X2axt5BYq7gv",
    "outputId": "be7a2789-2117-4c2d-a36e-d1898b801c64"
   },
   "outputs": [],
   "source": [
    "#!sudo apt-get install espeak ffmpeg -y"
   ]
  },
  {
   "cell_type": "code",
   "execution_count": 4,
   "metadata": {
    "colab": {
     "base_uri": "https://localhost:8080/",
     "height": 139
    },
    "colab_type": "code",
    "id": "ZduAf-qYYEIT",
    "outputId": "a713c901-caa5-415d-bdfc-157111693438"
   },
   "outputs": [],
   "source": [
    "#!git clone https://github.com/mozilla/TTS"
   ]
  },
  {
   "cell_type": "code",
   "execution_count": 5,
   "metadata": {
    "colab": {
     "base_uri": "https://localhost:8080/",
     "height": 1000
    },
    "colab_type": "code",
    "id": "ofPCvPyjZEcT",
    "outputId": "72fae728-af17-4dab-a519-0a9bca31df9c"
   },
   "outputs": [],
   "source": [
    "#%cd TTS\n",
    "#!git checkout b1935c97\n",
    "#!pip install -r requirements.txt\n",
    "#!python setup.py install\n",
    "#!pip install inflect pydub\n",
    "#%cd .."
   ]
  },
  {
   "cell_type": "markdown",
   "metadata": {
    "colab_type": "text",
    "id": "ZksegYQepkFg"
   },
   "source": [
    "### Load Models"
   ]
  },
  {
   "cell_type": "code",
   "execution_count": 6,
   "metadata": {
    "colab": {},
    "colab_type": "code",
    "id": "oVa0kOamprgj"
   },
   "outputs": [],
   "source": [
    "import gc\n",
    "import copy\n",
    "import os\n",
    "import torch\n",
    "import time\n",
    "import IPython\n",
    "import numpy as np\n",
    "import scipy.io.wavfile\n",
    "import math\n",
    "#from playsound import playsound\n",
    "\n",
    "from TTS.utils.generic_utils import setup_model\n",
    "from TTS.utils.io import load_config\n",
    "from TTS.utils.text.symbols import symbols, phonemes\n",
    "from TTS.utils.audio import AudioProcessor\n",
    "from TTS.utils.synthesis import synthesis\n",
    "from TTS.vocoder.utils.generic_utils import setup_generator"
   ]
  },
  {
   "cell_type": "code",
   "execution_count": 7,
   "metadata": {
    "colab": {},
    "colab_type": "code",
    "id": "NqazAJEhvK_U"
   },
   "outputs": [],
   "source": [
    "import resource\n",
    "#TTS Class\n",
    "class TTSModel:\n",
    "    def __init__(self, TTS_MODEL, TTS_CONFIG, VOCODER_MODEL, VOCODER_CONFIG, use_cuda, use_gl):\n",
    "        self.use_cuda = use_cuda\n",
    "        self.use_gl = use_gl \n",
    "        # model paths\n",
    "        self.tts_config = load_config(TTS_CONFIG)\n",
    "        vocoder_config = load_config(VOCODER_CONFIG)\n",
    "        # load audio processor\n",
    "        self.ap = AudioProcessor(**self.tts_config.audio)\n",
    "        # LOAD TTS MODEL\n",
    "        # multi speaker \n",
    "        self.speaker_id = None\n",
    "        speakers = []\n",
    "        # load the model\n",
    "        num_chars = len(phonemes) if self.tts_config.use_phonemes else len(symbols)\n",
    "        self.model = setup_model(num_chars, len(speakers), self.tts_config)\n",
    "        # load model state\n",
    "        self.cp =  torch.load(TTS_MODEL, map_location=torch.device('cpu'))\n",
    "        # load the model\n",
    "        self.model.load_state_dict(self.cp['model'])\n",
    "        if self.use_cuda:\n",
    "            self.model.cuda()\n",
    "        self.model.train(False)\n",
    "        self.model.eval()\n",
    "        # set model stepsize\n",
    "        if 'r' in self.cp:\n",
    "            self.model.decoder.set_r(self.cp['r'])\n",
    "        # LOAD VOCODER MODEL\n",
    "        self.vocoder_model = setup_generator(vocoder_config)\n",
    "        self.vocoder_model.load_state_dict(torch.load(VOCODER_MODEL, map_location=\"cpu\")[\"model\"])\n",
    "        self.vocoder_model.remove_weight_norm()\n",
    "        self.vocoder_model.inference_padding = 0\n",
    "        #ap_vocoder = AudioProcessor(**vocoder_config['audio'])    \n",
    "        if use_cuda:\n",
    "            self.vocoder_model.cuda()\n",
    "        self.vocoder_model.train(False)\n",
    "        self.vocoder_model.eval()\n",
    "        #get sample rate\n",
    "        self.sample_rate = self.ap.sample_rate\n",
    "        gc.collect(2)\n",
    "    def tts(self,text,interactive=False,printable=False):\n",
    "        figures=True\n",
    "        t_1 = time.time()\n",
    "        tmodel = copy.deepcopy(self.model)\n",
    "        #tvoc = copy.deepcopy(self.vocoder_model)\n",
    "        \n",
    "        enable_chars = self.tts_config.enable_eos_bos_chars\n",
    "        waveform, alignment, mel_spec, mel_postnet_spec, stop_tokens, inputs = synthesis(tmodel, text, self.tts_config, self.use_cuda, self.ap, self.speaker_id, style_wav=None, truncated=False, enable_eos_bos_chars=enable_chars)\n",
    "        # mel_postnet_spec = ap._denormalize(mel_postnet_spec.T)\n",
    "        del tmodel\n",
    "        gc.collect(2)\n",
    "        \n",
    "        if not self.use_gl:\n",
    "            waveform = self.vocoder_model.inference(torch.FloatTensor(mel_postnet_spec.T).unsqueeze(0))\n",
    "            waveform = waveform.flatten()\n",
    "        if self.use_cuda:\n",
    "            waveform = waveform.cpu()\n",
    "        else:\n",
    "            waveform = waveform.numpy()\n",
    "        #del tvoc\n",
    "        \n",
    "        if printable:\n",
    "          rtf = (time.time() - t_1) / (len(waveform) / self.ap.sample_rate)\n",
    "          tps = (time.time() - t_1) / len(waveform)\n",
    "          usage = resource.getrusage(resource.RUSAGE_SELF).ru_maxrss\n",
    "          print(waveform.shape)\n",
    "          print(\" > Run-time: {}\".format(time.time() - t_1))\n",
    "          print(\" > Memory Used: {} MB\".format(math.floor(usage/1024))) \n",
    "          print(\" > Real-time factor: {}\".format(rtf))\n",
    "          print(\" > Time per step: {}\".format(tps))\n",
    "        if interactive:\n",
    "            IPython.display.display(IPython.display.Audio(waveform, rate=self.sample_rate)) \n",
    "        gc.collect(2)\n",
    "        return alignment, mel_postnet_spec, stop_tokens, waveform\n",
    "    def simpletts(self,text):\n",
    "        _,_,_,wav = self.tts(text)\n",
    "        return wav"
   ]
  },
  {
   "cell_type": "markdown",
   "metadata": {
    "colab_type": "text",
    "id": "Ws_YkPKsLgo-"
   },
   "source": [
    "## See it in action!"
   ]
  },
  {
   "cell_type": "code",
   "execution_count": 8,
   "metadata": {
    "colab": {},
    "colab_type": "code",
    "id": "bsVfOid6vK_a"
   },
   "outputs": [],
   "source": [
    "def tryit(sample):\n",
    "    # load the model\n",
    "    ttsmodel = TTSModel(\"tts_model.pth.tar\",\"config.json\",\"vocoder_model.pth.tar\",\"config_vocoder.json\",False,False)\n",
    "    # input sample and hear it!\n",
    "    stuff = ttsmodel.tts(sample,True)\n",
    "    del stuff\n",
    "    del ttsmodel\n",
    "#tryit(\"Bill got in the habit of asking himself “Is that thought true?” and if he wasn’t absolutely certain it was, he just let it go.\")"
   ]
  },
  {
   "cell_type": "markdown",
   "metadata": {
    "colab_type": "text",
    "id": "0C6vEzK-vK_g"
   },
   "source": [
    "## Process files and output to wav"
   ]
  },
  {
   "cell_type": "code",
   "execution_count": 9,
   "metadata": {
    "colab": {},
    "colab_type": "code",
    "id": "6iZzmbp-vK_h"
   },
   "outputs": [],
   "source": [
    "from pydub import AudioSegment\n",
    "from functools import reduce\n",
    "import re\n",
    "from shutil import copyfile"
   ]
  },
  {
   "cell_type": "code",
   "execution_count": 10,
   "metadata": {
    "colab": {},
    "colab_type": "code",
    "id": "zQUNCrRfvK_m"
   },
   "outputs": [],
   "source": [
    "def preprocess(info):\n",
    "    info = ' '.join(info.split('\\n'))\n",
    "    info = info.replace('- ','')\n",
    "    into = '|'.join(map(lambda x: x, info.split('  ')))\n",
    "    info = '|'.join(map(lambda x: x+'?', info.split('? ')))\n",
    "    info = '|'.join(map(lambda x: x+'.', info.split('. ')))\n",
    "    info = '|'.join(map(lambda x: x+'!', info.split('! ')))\n",
    "    info = info.split('|')\n",
    "    info = map(lambda x: ''.join(ch for ch in x if (ch.isalnum() or ch == ' ' or ch == '.' or ch == '?' or ch=='\"' or ch=='\\'' or ch=='”' or ch == '!')), info)\n",
    "    info = [x for x in info if re.search('[a-zA-Z]', x)]\n",
    "    #info = info[:-1]\n",
    "    return list(filter(lambda x: len(x)>1,info))"
   ]
  },
  {
   "cell_type": "code",
   "execution_count": 11,
   "metadata": {
    "colab": {},
    "colab_type": "code",
    "id": "h9yVS4hqvK_s"
   },
   "outputs": [],
   "source": [
    "def writetofile(sample_rate, name, wav):\n",
    "    scipy.io.wavfile.write(name,sample_rate,wav)\n",
    "    return\n",
    "def readfromfile(name):\n",
    "    (_, wav) = scipy.io.wavfile.read(name)\n",
    "    return wav"
   ]
  },
  {
   "cell_type": "code",
   "execution_count": 12,
   "metadata": {},
   "outputs": [],
   "source": [
    "def collectparts(nparts,out,duration):\n",
    "    sil = AudioSegment.silent(duration=duration)\n",
    "    acc = AudioSegment.silent()\n",
    "    for i in range(nparts):\n",
    "        acc = acc + sil + AudioSegment.from_wav(out+'part'+str(i)+'.wav')\n",
    "        os.remove(out+'part'+str(i))\n",
    "    acc.export(out+'.mp3',format='mp3')\n",
    "    return"
   ]
  },
  {
   "cell_type": "code",
   "execution_count": 13,
   "metadata": {},
   "outputs": [],
   "source": [
    "import concurrent.futures\n",
    "import os.path\n",
    "\n",
    "def speaksents(ttsmodel, sents, out, workers, duration):\n",
    "    def speak(sent):\n",
    "        return ttsmodel.simpletts(sent)\n",
    "    def nspeak(i):\n",
    "        print(i)\n",
    "        return ttsmodel.simpletts(sents[i])\n",
    "    with concurrent.futures.ThreadPoolExecutor(max_workers=workers) as executor:\n",
    "        future = executor.map(speak, sents)\n",
    "        #future = executor.map(nspeak, range(len(sents)))\n",
    "        if not os.path.isfile('sil.wav'):\n",
    "            AudioSegment.silent(duration=duration).export('sil.wav',format='wav')\n",
    "        sil = readfromfile('sil.wav')\n",
    "        stuff = reduce(lambda x,y: np.concatenate((x,sil,y),axis=None),future)\n",
    "        del future\n",
    "        writetofile(ttsmodel.sample_rate, out+'.wav', stuff)\n",
    "        del stuff\n",
    "        gc.collect()\n",
    "        return"
   ]
  },
  {
   "cell_type": "code",
   "execution_count": 14,
   "metadata": {},
   "outputs": [],
   "source": [
    "def readtofile(filename,out,workers=2,ttsmodel=None,partsize=100,duration=800):\n",
    "    t_0 = time.time()\n",
    "    print('reading file')\n",
    "    file = open(filename,\"r\")\n",
    "    words = file.read()\n",
    "    file.close()\n",
    "    initmodel = ttsmodel is None\n",
    "    if initmodel:\n",
    "        print('loading model')\n",
    "        ttsmodel = TTSModel(\"tts_model.pth.tar\",\"config.json\",\"vocoder_model.pth.tar\",\"config_vocoder.json\",False,False)\n",
    "    print('processing')\n",
    "    sents = preprocess(words)\n",
    "    parts = []\n",
    "    km = 0\n",
    "    while km < len(sents):\n",
    "        k = km\n",
    "        km = min(km + partsize,len(sents))\n",
    "        parts.append(sents[k:km])\n",
    "    print('reading '+str(len(sents))+' sentences in '+str(len(parts))+' parts')\n",
    "    t_1 = time.time()\n",
    "    t_i = t_1\n",
    "    for i, part in enumerate(parts):\n",
    "        speaksents(ttsmodel, part, out+'part'+str(i),workers,duration)\n",
    "        print('part '+str(i)+' took '+str(math.ceil((time.time()-t_i)/60))+' minutes')\n",
    "        t_i = time.time()\n",
    "    print('reading took '+str((time.time()-t_1)/(60*60))+' h')\n",
    "    if initmodel:\n",
    "        del ttsmodel\n",
    "    del sents\n",
    "    print('collecting parts')\n",
    "    collectparts(len(parts),out,duration)\n",
    "    gc.collect(2)\n",
    "    print('done in '+str((time.time()-t_0)/(60*60))+' h')\n",
    "    return"
   ]
  },
  {
   "cell_type": "markdown",
   "metadata": {
    "colab_type": "text",
    "id": "hdUCl56svLAB"
   },
   "source": [
    "## Run it!"
   ]
  },
  {
   "cell_type": "code",
   "execution_count": 15,
   "metadata": {
    "colab": {},
    "colab_type": "code",
    "id": "c8P8aQP2L7HQ"
   },
   "outputs": [],
   "source": [
    "#from google.colab import drive\n",
    "#drive.mount('/content/gdrive')"
   ]
  },
  {
   "cell_type": "code",
   "execution_count": 15,
   "metadata": {
    "colab": {},
    "colab_type": "code",
    "id": "Z16bKHW8vLAC"
   },
   "outputs": [
    {
     "name": "stdout",
     "output_type": "stream",
     "text": [
      "reading file\n",
      "loading model\n",
      " > Setting up Audio Processor...\n",
      " | > sample_rate:22050\n",
      " | > num_mels:80\n",
      " | > min_level_db:-100\n",
      " | > frame_shift_ms:None\n",
      " | > frame_length_ms:None\n",
      " | > ref_level_db:0\n",
      " | > fft_size:1024\n",
      " | > power:1.5\n",
      " | > preemphasis:0.0\n",
      " | > griffin_lim_iters:60\n",
      " | > signal_norm:True\n",
      " | > symmetric_norm:True\n",
      " | > mel_fmin:50.0\n",
      " | > mel_fmax:7600.0\n",
      " | > spec_gain:1.0\n",
      " | > stft_pad_mode:reflect\n",
      " | > max_norm:4.0\n",
      " | > clip_norm:True\n",
      " | > do_trim_silence:True\n",
      " | > trim_db:60\n",
      " | > do_sound_norm:False\n",
      " | > stats_path:./scale_stats.npy\n",
      " | > hop_length:256\n",
      " | > win_length:1024\n",
      " > Using model: Tacotron2\n",
      " > Generator Model: multiband_melgan_generator\n",
      "processing\n",
      "reading 225 sentences\n"
     ]
    },
    {
     "name": "stderr",
     "output_type": "stream",
     "text": [
      "[ERROR] Internal Python error in the inspect module.\n",
      "Below is the traceback from this internal error.\n",
      "\n",
      "[ERROR] Internal Python error in the inspect module.\n",
      "Below is the traceback from this internal error.\n",
      "\n"
     ]
    },
    {
     "name": "stdout",
     "output_type": "stream",
     "text": [
      "Traceback (most recent call last):\n",
      "  File \"<ipython-input-13-9b9f23a74c09>\", line 16, in speaksents\n",
      "    stuff = reduce(lambda x,y: np.concatenate((x,sil,y),axis=None),future)\n",
      "  File \"/home/user/miniconda3/lib/python3.7/concurrent/futures/_base.py\", line 598, in result_iterator\n",
      "    yield fs.pop().result()\n",
      "  File \"/home/user/miniconda3/lib/python3.7/concurrent/futures/_base.py\", line 430, in result\n",
      "    self._condition.wait(timeout)\n",
      "  File \"/home/user/miniconda3/lib/python3.7/threading.py\", line 296, in wait\n",
      "    waiter.acquire()\n",
      "KeyboardInterrupt\n",
      "\n",
      "During handling of the above exception, another exception occurred:\n",
      "\n",
      "Traceback (most recent call last):\n",
      "  File \"/home/user/miniconda3/lib/python3.7/site-packages/IPython/core/interactiveshell.py\", line 3343, in run_code\n",
      "    exec(code_obj, self.user_global_ns, self.user_ns)\n",
      "  File \"<ipython-input-16-0beb69c0ad79>\", line 1, in <module>\n",
      "    readtofile(\"BeyondTheDoor.txt\",'beyond')\n",
      "  File \"<ipython-input-14-686925fff399>\", line 23, in readtofile\n",
      "    speaksents(ttsmodel, part, out+'part'+str(i),workers,duration)\n",
      "  File \"<ipython-input-13-9b9f23a74c09>\", line 21, in speaksents\n",
      "    return\n",
      "  File \"/home/user/miniconda3/lib/python3.7/concurrent/futures/_base.py\", line 623, in __exit__\n",
      "    self.shutdown(wait=True)\n",
      "  File \"/home/user/miniconda3/lib/python3.7/concurrent/futures/thread.py\", line 216, in shutdown\n",
      "    t.join()\n",
      "  File \"/home/user/miniconda3/lib/python3.7/threading.py\", line 1044, in join\n",
      "    self._wait_for_tstate_lock()\n",
      "  File \"/home/user/miniconda3/lib/python3.7/threading.py\", line 1060, in _wait_for_tstate_lock\n",
      "    elif lock.acquire(block, timeout):\n",
      "KeyboardInterrupt\n",
      "\n",
      "During handling of the above exception, another exception occurred:\n",
      "\n",
      "Traceback (most recent call last):\n",
      "  File \"/home/user/miniconda3/lib/python3.7/site-packages/IPython/core/interactiveshell.py\", line 2044, in showtraceback\n",
      "    stb = value._render_traceback_()\n",
      "AttributeError: 'KeyboardInterrupt' object has no attribute '_render_traceback_'\n",
      "\n",
      "During handling of the above exception, another exception occurred:\n",
      "\n",
      "Traceback (most recent call last):\n",
      "  File \"/home/user/miniconda3/lib/python3.7/site-packages/IPython/core/ultratb.py\", line 1169, in get_records\n",
      "    return _fixed_getinnerframes(etb, number_of_lines_of_context, tb_offset)\n",
      "  File \"/home/user/miniconda3/lib/python3.7/site-packages/IPython/core/ultratb.py\", line 316, in wrapped\n",
      "    return f(*args, **kwargs)\n",
      "  File \"/home/user/miniconda3/lib/python3.7/site-packages/IPython/core/ultratb.py\", line 350, in _fixed_getinnerframes\n",
      "    records = fix_frame_records_filenames(inspect.getinnerframes(etb, context))\n",
      "  File \"/home/user/miniconda3/lib/python3.7/inspect.py\", line 1502, in getinnerframes\n",
      "    frameinfo = (tb.tb_frame,) + getframeinfo(tb, context)\n",
      "  File \"/home/user/miniconda3/lib/python3.7/inspect.py\", line 1460, in getframeinfo\n",
      "    filename = getsourcefile(frame) or getfile(frame)\n",
      "  File \"/home/user/miniconda3/lib/python3.7/inspect.py\", line 696, in getsourcefile\n",
      "    if getattr(getmodule(object, filename), '__loader__', None) is not None:\n",
      "  File \"/home/user/miniconda3/lib/python3.7/inspect.py\", line 739, in getmodule\n",
      "    f = getabsfile(module)\n",
      "  File \"/home/user/miniconda3/lib/python3.7/inspect.py\", line 708, in getabsfile\n",
      "    _filename = getsourcefile(object) or getfile(object)\n",
      "  File \"/home/user/miniconda3/lib/python3.7/inspect.py\", line 693, in getsourcefile\n",
      "    if os.path.exists(filename):\n",
      "  File \"/home/user/miniconda3/lib/python3.7/genericpath.py\", line 19, in exists\n",
      "    os.stat(path)\n",
      "KeyboardInterrupt\n",
      "Traceback (most recent call last):\n",
      "  File \"<ipython-input-13-9b9f23a74c09>\", line 16, in speaksents\n",
      "    stuff = reduce(lambda x,y: np.concatenate((x,sil,y),axis=None),future)\n",
      "  File \"/home/user/miniconda3/lib/python3.7/concurrent/futures/_base.py\", line 598, in result_iterator\n",
      "    yield fs.pop().result()\n",
      "  File \"/home/user/miniconda3/lib/python3.7/concurrent/futures/_base.py\", line 430, in result\n",
      "    self._condition.wait(timeout)\n",
      "  File \"/home/user/miniconda3/lib/python3.7/threading.py\", line 296, in wait\n",
      "    waiter.acquire()\n",
      "KeyboardInterrupt\n",
      "\n",
      "During handling of the above exception, another exception occurred:\n",
      "\n",
      "Traceback (most recent call last):\n",
      "  File \"/home/user/miniconda3/lib/python3.7/site-packages/IPython/core/interactiveshell.py\", line 3343, in run_code\n",
      "    exec(code_obj, self.user_global_ns, self.user_ns)\n",
      "  File \"<ipython-input-16-0beb69c0ad79>\", line 1, in <module>\n",
      "    readtofile(\"BeyondTheDoor.txt\",'beyond')\n",
      "  File \"<ipython-input-14-686925fff399>\", line 23, in readtofile\n",
      "    speaksents(ttsmodel, part, out+'part'+str(i),workers,duration)\n",
      "  File \"<ipython-input-13-9b9f23a74c09>\", line 21, in speaksents\n",
      "    return\n",
      "  File \"/home/user/miniconda3/lib/python3.7/concurrent/futures/_base.py\", line 623, in __exit__\n",
      "    self.shutdown(wait=True)\n",
      "  File \"/home/user/miniconda3/lib/python3.7/concurrent/futures/thread.py\", line 216, in shutdown\n",
      "    t.join()\n",
      "  File \"/home/user/miniconda3/lib/python3.7/threading.py\", line 1044, in join\n",
      "    self._wait_for_tstate_lock()\n",
      "  File \"/home/user/miniconda3/lib/python3.7/threading.py\", line 1060, in _wait_for_tstate_lock\n",
      "    elif lock.acquire(block, timeout):\n",
      "KeyboardInterrupt\n",
      "\n",
      "During handling of the above exception, another exception occurred:\n",
      "\n",
      "Traceback (most recent call last):\n",
      "  File \"/home/user/miniconda3/lib/python3.7/site-packages/IPython/core/interactiveshell.py\", line 2044, in showtraceback\n",
      "    stb = value._render_traceback_()\n",
      "AttributeError: 'KeyboardInterrupt' object has no attribute '_render_traceback_'\n",
      "\n",
      "During handling of the above exception, another exception occurred:\n",
      "\n",
      "Traceback (most recent call last):\n",
      "  File \"/home/user/miniconda3/lib/python3.7/site-packages/IPython/core/interactiveshell.py\", line 3263, in run_ast_nodes\n",
      "    if (await self.run_code(code, result,  async_=asy)):\n",
      "  File \"/home/user/miniconda3/lib/python3.7/site-packages/IPython/core/interactiveshell.py\", line 3360, in run_code\n",
      "    self.showtraceback(running_compiled_code=True)\n",
      "  File \"/home/user/miniconda3/lib/python3.7/site-packages/IPython/core/interactiveshell.py\", line 2047, in showtraceback\n",
      "    value, tb, tb_offset=tb_offset)\n",
      "  File \"/home/user/miniconda3/lib/python3.7/site-packages/IPython/core/ultratb.py\", line 1436, in structured_traceback\n",
      "    self, etype, value, tb, tb_offset, number_of_lines_of_context)\n",
      "  File \"/home/user/miniconda3/lib/python3.7/site-packages/IPython/core/ultratb.py\", line 1336, in structured_traceback\n",
      "    self, etype, value, tb, tb_offset, number_of_lines_of_context\n",
      "  File \"/home/user/miniconda3/lib/python3.7/site-packages/IPython/core/ultratb.py\", line 1193, in structured_traceback\n",
      "    tb_offset)\n",
      "  File \"/home/user/miniconda3/lib/python3.7/site-packages/IPython/core/ultratb.py\", line 1150, in format_exception_as_a_whole\n",
      "    last_unique, recursion_repeat = find_recursion(orig_etype, evalue, records)\n",
      "  File \"/home/user/miniconda3/lib/python3.7/site-packages/IPython/core/ultratb.py\", line 451, in find_recursion\n",
      "    return len(records), 0\n",
      "TypeError: object of type 'NoneType' has no len()\n",
      "\n",
      "During handling of the above exception, another exception occurred:\n",
      "\n",
      "Traceback (most recent call last):\n",
      "  File \"/home/user/miniconda3/lib/python3.7/site-packages/IPython/core/interactiveshell.py\", line 2044, in showtraceback\n",
      "    stb = value._render_traceback_()\n",
      "AttributeError: 'TypeError' object has no attribute '_render_traceback_'\n",
      "\n",
      "During handling of the above exception, another exception occurred:\n",
      "\n",
      "Traceback (most recent call last):\n",
      "  File \"/home/user/miniconda3/lib/python3.7/site-packages/IPython/core/ultratb.py\", line 1169, in get_records\n",
      "    return _fixed_getinnerframes(etb, number_of_lines_of_context, tb_offset)\n",
      "  File \"/home/user/miniconda3/lib/python3.7/site-packages/IPython/core/ultratb.py\", line 316, in wrapped\n",
      "    return f(*args, **kwargs)\n",
      "  File \"/home/user/miniconda3/lib/python3.7/site-packages/IPython/core/ultratb.py\", line 350, in _fixed_getinnerframes\n",
      "    records = fix_frame_records_filenames(inspect.getinnerframes(etb, context))\n",
      "  File \"/home/user/miniconda3/lib/python3.7/inspect.py\", line 1502, in getinnerframes\n",
      "    frameinfo = (tb.tb_frame,) + getframeinfo(tb, context)\n",
      "  File \"/home/user/miniconda3/lib/python3.7/inspect.py\", line 1460, in getframeinfo\n",
      "    filename = getsourcefile(frame) or getfile(frame)\n",
      "  File \"/home/user/miniconda3/lib/python3.7/inspect.py\", line 696, in getsourcefile\n",
      "    if getattr(getmodule(object, filename), '__loader__', None) is not None:\n",
      "  File \"/home/user/miniconda3/lib/python3.7/inspect.py\", line 742, in getmodule\n",
      "    os.path.realpath(f)] = module.__name__\n",
      "  File \"/home/user/miniconda3/lib/python3.7/posixpath.py\", line 395, in realpath\n",
      "    path, ok = _joinrealpath(filename[:0], filename, {})\n",
      "  File \"/home/user/miniconda3/lib/python3.7/posixpath.py\", line 429, in _joinrealpath\n",
      "    if not islink(newpath):\n",
      "  File \"/home/user/miniconda3/lib/python3.7/posixpath.py\", line 171, in islink\n",
      "    st = os.lstat(path)\n",
      "KeyboardInterrupt\n"
     ]
    },
    {
     "name": "stderr",
     "output_type": "stream",
     "text": [
      "\n",
      "KeyboardInterrupt\n",
      "\n"
     ]
    }
   ],
   "source": [
    "readtofile(\"BeyondTheDoor.txt\",'beyond')"
   ]
  },
  {
   "cell_type": "code",
   "execution_count": null,
   "metadata": {
    "colab": {},
    "colab_type": "code",
    "id": "1kVIypcnvCeq"
   },
   "outputs": [],
   "source": [
    "#!cp \"HowWeBecame.wav\" \"gdrive/My Drive/\""
   ]
  }
 ],
 "metadata": {
  "colab": {
   "collapsed_sections": [],
   "name": "MozillaTTS.ipynb",
   "provenance": [],
   "toc_visible": true
  },
  "kernelspec": {
   "display_name": "Python 3",
   "language": "python",
   "name": "python3"
  },
  "language_info": {
   "codemirror_mode": {
    "name": "ipython",
    "version": 3
   },
   "file_extension": ".py",
   "mimetype": "text/x-python",
   "name": "python",
   "nbconvert_exporter": "python",
   "pygments_lexer": "ipython3",
   "version": "3.7.7"
  }
 },
 "nbformat": 4,
 "nbformat_minor": 4
}
