{
 "cells": [
  {
   "cell_type": "code",
   "execution_count": 1,
   "metadata": {},
   "outputs": [
    {
     "name": "stdout",
     "output_type": "stream",
     "text": [
      "16\n"
     ]
    }
   ],
   "source": [
    "import os\n",
    "from pydub import AudioSegment\n",
    "from functools import reduce\n",
    "import re\n",
    "import gc\n",
    "from shutil import copyfile\n",
    "def collectnonsense(num,out):\n",
    "    copyfile(\"tmp/thing0.wav\",out)\n",
    "    os.remove(\"tmp/thing0.wav\")\n",
    "    for i in range(num-1):\n",
    "        thingi = \"tmp/thing\"+str(i+1)+\".wav\"\n",
    "        acc = AudioSegment.from_wav(out)\n",
    "        acc = acc + AudioSegment.from_wav(thingi)\n",
    "        acc.export(out,format=\"wav\")\n",
    "        del acc\n",
    "        os.remove(thingi)\n",
    "        gc.collect()\n",
    "    return\n",
    "collectnonsense(16,'manifesto.wav')"
   ]
  }
 ],
 "metadata": {
  "kernelspec": {
   "display_name": "Python 3",
   "language": "python",
   "name": "python3"
  },
  "language_info": {
   "codemirror_mode": {
    "name": "ipython",
    "version": 3
   },
   "file_extension": ".py",
   "mimetype": "text/x-python",
   "name": "python",
   "nbconvert_exporter": "python",
   "pygments_lexer": "ipython3",
   "version": "3.7.7"
  }
 },
 "nbformat": 4,
 "nbformat_minor": 4
}
